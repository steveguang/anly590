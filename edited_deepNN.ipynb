{
 "cells": [
  {
   "cell_type": "code",
   "execution_count": 14,
   "metadata": {},
   "outputs": [],
   "source": [
    "import pandas as pd\n",
    "import numpy as np\n",
    "from keras.layers import Input, Dense\n",
    "from keras.models import Model\n",
    "from keras.layers import LeakyReLU, PReLU, Dropout\n",
    "from keras import optimizers\n",
    "from sklearn.preprocessing import StandardScaler\n",
    "from matplotlib import pyplot"
   ]
  },
  {
   "cell_type": "code",
   "execution_count": 15,
   "metadata": {},
   "outputs": [],
   "source": [
    "cab_df = pd.read_csv(\"../cab_rides.csv\",delimiter='\\t',encoding = \"utf-16\")\n",
    "weather_df = pd.read_csv(\"../weather.csv\",delimiter='\\t',encoding = \"utf-16\")\n",
    "\n",
    "cab_df['date_time'] = pd.to_datetime(cab_df['time_stamp']/1000, unit='s')\n",
    "weather_df['date_time'] = pd.to_datetime(weather_df['time_stamp'], unit='s')\n",
    "\n",
    "#merge the datasets to refelect same time for a location\n",
    "cab_df['merge_date'] = cab_df.source.astype(str) +\" - \"+ cab_df.date_time.dt.date.astype(\"str\") +\" - \"+ cab_df.date_time.dt.hour.astype(\"str\")\n",
    "weather_df['merge_date'] = weather_df.location.astype(str) +\" - \"+ weather_df.date_time.dt.date.astype(\"str\") +\" - \"+ weather_df.date_time.dt.hour.astype(\"str\")\n",
    "\n",
    "weather_df.index = weather_df['merge_date']\n",
    "\n",
    "merged_df = cab_df.join(weather_df,on=['merge_date'],rsuffix ='_w')\n",
    "merged_df['rain'].fillna(0,inplace=True)\n",
    "merged_df = merged_df[pd.notnull(merged_df['date_time_w'])]\n",
    "merged_df = merged_df[pd.notnull(merged_df['price'])]\n",
    "merged_df['day'] = merged_df.date_time.dt.dayofweek\n",
    "merged_df['hour'] = merged_df.date_time.dt.hour\n",
    "\n",
    "merged_df.columns\n",
    "merged_df.count()\n",
    "X = merged_df[merged_df.product_id=='lyft_line'][['day','distance','hour','temp','clouds', 'pressure','humidity', 'wind', 'rain']]\n",
    "X.count()\n",
    "y = merged_df[merged_df.product_id=='lyft_line']['price']\n",
    "y.count()\n",
    "X.reset_index(inplace=True)\n",
    "X = X.drop(columns=['index'])\n",
    "#X.head()\n",
    "#features = pd.get_dummies(X)\n",
    "sc = StandardScaler()\n",
    "X = sc.fit_transform(X)"
   ]
  },
  {
   "cell_type": "code",
   "execution_count": 16,
   "metadata": {},
   "outputs": [],
   "source": [
    "# Labels are the values we want to predict\n",
    "labels = np.array(y)\n",
    "\n",
    "# Saving feature names for later use\n",
    "#feature_list = list(features.columns)\n",
    "# Convert to numpy array\n",
    "#features = np.array(features)\n",
    "# Using Skicit-learn to split data into training and testing sets\n",
    "from sklearn.model_selection import train_test_split\n",
    "# Split the data into training and testing sets\n",
    "train_features, test_features, train_labels, test_labels = train_test_split(X, labels, test_size = 0.1, random_state = 0)"
   ]
  },
  {
   "cell_type": "code",
   "execution_count": 17,
   "metadata": {
    "scrolled": false
   },
   "outputs": [
    {
     "name": "stdout",
     "output_type": "stream",
     "text": [
      "WARNING:tensorflow:From /Library/Frameworks/Python.framework/Versions/3.6/lib/python3.6/site-packages/tensorflow/python/ops/math_ops.py:3066: to_int32 (from tensorflow.python.ops.math_ops) is deprecated and will be removed in a future version.\n",
      "Instructions for updating:\n",
      "Use tf.cast instead.\n",
      "Train on 81936 samples, validate on 9105 samples\n",
      "Epoch 1/30\n",
      "81936/81936 [==============================] - 11s 136us/step - loss: 2.3100 - mean_absolute_percentage_error: 39.2310 - val_loss: 1.1277 - val_mean_absolute_percentage_error: 19.9556\n",
      "Epoch 2/30\n",
      "81936/81936 [==============================] - 11s 134us/step - loss: 1.3323 - mean_absolute_percentage_error: 23.8510 - val_loss: 1.0621 - val_mean_absolute_percentage_error: 19.3533\n",
      "Epoch 3/30\n",
      "81936/81936 [==============================] - 12s 142us/step - loss: 1.1616 - mean_absolute_percentage_error: 21.5724 - val_loss: 1.0497 - val_mean_absolute_percentage_error: 19.0227\n",
      "Epoch 4/30\n",
      "81936/81936 [==============================] - 11s 135us/step - loss: 1.0855 - mean_absolute_percentage_error: 20.3838 - val_loss: 1.0595 - val_mean_absolute_percentage_error: 18.6778\n",
      "Epoch 5/30\n",
      "81936/81936 [==============================] - 11s 136us/step - loss: 1.0547 - mean_absolute_percentage_error: 19.8646 - val_loss: 1.0660 - val_mean_absolute_percentage_error: 18.6264\n",
      "Epoch 6/30\n",
      "81936/81936 [==============================] - 11s 136us/step - loss: 1.0285 - mean_absolute_percentage_error: 19.4282 - val_loss: 1.0580 - val_mean_absolute_percentage_error: 18.4462\n",
      "Epoch 7/30\n",
      "81936/81936 [==============================] - 12s 151us/step - loss: 1.0129 - mean_absolute_percentage_error: 19.1192 - val_loss: 1.0502 - val_mean_absolute_percentage_error: 18.3242\n",
      "Epoch 8/30\n",
      "81936/81936 [==============================] - 12s 150us/step - loss: 0.9968 - mean_absolute_percentage_error: 18.8243 - val_loss: 1.0273 - val_mean_absolute_percentage_error: 18.0445\n",
      "Epoch 9/30\n",
      "81936/81936 [==============================] - 11s 134us/step - loss: 0.9888 - mean_absolute_percentage_error: 18.7236 - val_loss: 1.0244 - val_mean_absolute_percentage_error: 18.0842\n",
      "Epoch 10/30\n",
      "81936/81936 [==============================] - 11s 134us/step - loss: 0.9768 - mean_absolute_percentage_error: 18.4683 - val_loss: 1.0154 - val_mean_absolute_percentage_error: 17.8714\n",
      "Epoch 11/30\n",
      "81936/81936 [==============================] - 11s 134us/step - loss: 0.9677 - mean_absolute_percentage_error: 18.3363 - val_loss: 1.0197 - val_mean_absolute_percentage_error: 17.8984\n",
      "Epoch 12/30\n",
      "81936/81936 [==============================] - 11s 133us/step - loss: 0.9594 - mean_absolute_percentage_error: 18.1561 - val_loss: 0.9993 - val_mean_absolute_percentage_error: 17.6230\n",
      "Epoch 13/30\n",
      "81936/81936 [==============================] - 11s 135us/step - loss: 0.9523 - mean_absolute_percentage_error: 18.0444 - val_loss: 0.9865 - val_mean_absolute_percentage_error: 17.3874\n",
      "Epoch 14/30\n",
      "81936/81936 [==============================] - 11s 134us/step - loss: 0.9394 - mean_absolute_percentage_error: 17.7719 - val_loss: 0.9952 - val_mean_absolute_percentage_error: 17.4211\n",
      "Epoch 15/30\n",
      "81936/81936 [==============================] - 11s 134us/step - loss: 0.9288 - mean_absolute_percentage_error: 17.5789 - val_loss: 0.9841 - val_mean_absolute_percentage_error: 17.2537\n",
      "Epoch 16/30\n",
      "81936/81936 [==============================] - 11s 134us/step - loss: 0.9190 - mean_absolute_percentage_error: 17.4114 - val_loss: 0.9669 - val_mean_absolute_percentage_error: 17.0564\n",
      "Epoch 17/30\n",
      "81936/81936 [==============================] - 11s 134us/step - loss: 0.9118 - mean_absolute_percentage_error: 17.3209 - val_loss: 0.9746 - val_mean_absolute_percentage_error: 17.1402\n",
      "Epoch 18/30\n",
      "81936/81936 [==============================] - 11s 135us/step - loss: 0.9114 - mean_absolute_percentage_error: 17.2781 - val_loss: 0.9627 - val_mean_absolute_percentage_error: 16.9044\n",
      "Epoch 19/30\n",
      "81936/81936 [==============================] - 11s 133us/step - loss: 0.9054 - mean_absolute_percentage_error: 17.1251 - val_loss: 0.9617 - val_mean_absolute_percentage_error: 16.8677\n",
      "Epoch 20/30\n",
      "81936/81936 [==============================] - 11s 132us/step - loss: 0.9028 - mean_absolute_percentage_error: 17.0326 - val_loss: 0.9665 - val_mean_absolute_percentage_error: 16.8754\n",
      "Epoch 21/30\n",
      "81936/81936 [==============================] - 11s 134us/step - loss: 0.8977 - mean_absolute_percentage_error: 16.9682 - val_loss: 0.9576 - val_mean_absolute_percentage_error: 16.7713\n",
      "Epoch 22/30\n",
      "81936/81936 [==============================] - 11s 135us/step - loss: 0.8930 - mean_absolute_percentage_error: 16.8682 - val_loss: 0.9611 - val_mean_absolute_percentage_error: 16.8061\n",
      "Epoch 23/30\n",
      "81936/81936 [==============================] - 11s 134us/step - loss: 0.8919 - mean_absolute_percentage_error: 16.8225 - val_loss: 0.9551 - val_mean_absolute_percentage_error: 16.7187\n",
      "Epoch 24/30\n",
      "81936/81936 [==============================] - 11s 135us/step - loss: 0.8877 - mean_absolute_percentage_error: 16.7697 - val_loss: 0.9567 - val_mean_absolute_percentage_error: 16.6940\n",
      "Epoch 25/30\n",
      "81936/81936 [==============================] - 11s 133us/step - loss: 0.8854 - mean_absolute_percentage_error: 16.7195 - val_loss: 0.9551 - val_mean_absolute_percentage_error: 16.7073\n",
      "Epoch 26/30\n",
      "81936/81936 [==============================] - 11s 138us/step - loss: 0.8801 - mean_absolute_percentage_error: 16.5952 - val_loss: 0.9493 - val_mean_absolute_percentage_error: 16.6144\n",
      "Epoch 27/30\n",
      "81936/81936 [==============================] - 11s 134us/step - loss: 0.8795 - mean_absolute_percentage_error: 16.6289 - val_loss: 0.9526 - val_mean_absolute_percentage_error: 16.6133\n",
      "Epoch 28/30\n",
      "81936/81936 [==============================] - 11s 134us/step - loss: 0.8772 - mean_absolute_percentage_error: 16.5650 - val_loss: 0.9534 - val_mean_absolute_percentage_error: 16.6523\n",
      "Epoch 29/30\n",
      "81936/81936 [==============================] - 11s 134us/step - loss: 0.8759 - mean_absolute_percentage_error: 16.5410 - val_loss: 0.9499 - val_mean_absolute_percentage_error: 16.6228\n",
      "Epoch 30/30\n",
      "81936/81936 [==============================] - 11s 133us/step - loss: 0.8751 - mean_absolute_percentage_error: 16.5380 - val_loss: 0.9509 - val_mean_absolute_percentage_error: 16.6363\n"
     ]
    }
   ],
   "source": [
    "input_ = Input(shape = (9,))\n",
    "x = Dense(32)(input_)\n",
    "x = Dense(16, activation = 'relu')(x)\n",
    "x = Dropout(0.25)(x)\n",
    "x = Dense(8, activation = 'relu')(x)\n",
    "x = Dropout(0.1)(x)\n",
    "x = Dense(4, activation = 'relu')(x)\n",
    "x = Dropout(0.1)(x)\n",
    "x = Dense(2, activation = 'relu')(x)\n",
    "output = Dense(1)(x)\n",
    "\n",
    "dnn = Model(input_, output)\n",
    "sgd = optimizers.SGD(lr=0.001, momentum=0.01, clipnorm=1.)\n",
    "dnn.compile(optimizer=sgd, loss='mean_absolute_error', metrics=['mape'])\n",
    "history = dnn.fit(train_features, train_labels,\n",
    "              batch_size=8,\n",
    "              epochs=30,\n",
    "           validation_data=(test_features, test_labels))"
   ]
  },
  {
   "cell_type": "code",
   "execution_count": 20,
   "metadata": {},
   "outputs": [
    {
     "data": {
      "image/png": "[encoded data removed]",
      "text/plain": [
       "<Figure size 432x288 with 1 Axes>"
      ]
     },
     "metadata": {},
     "output_type": "display_data"
    }
   ],
   "source": [
    "pyplot.plot(np.full((30,), 100)-history.history['mean_absolute_percentage_error'])\n",
    "pyplot.show()"
   ]
  },
  {
   "cell_type": "code",
   "execution_count": 21,
   "metadata": {},
   "outputs": [
    {
     "name": "stdout",
     "output_type": "stream",
     "text": [
      "Accuracy: 62.09 %.\n"
     ]
    }
   ],
   "source": [
    "predict_test = dnn.predict(test_features)\n",
    "errors = abs(predict_test - test_labels)\n",
    "mape = 100 * (errors / test_labels)\n",
    "accuracy = 100 - np.mean(mape)\n",
    "print('Accuracy:', round(accuracy, 2), '%.')"
   ]
  },
  {
   "cell_type": "code",
   "execution_count": 22,
   "metadata": {},
   "outputs": [],
   "source": [
    "def mean_absolute_percentage_error(y_true, y_pred): \n",
    "    y_true, y_pred = np.array(y_true), np.array(y_pred)\n",
    "    return np.mean(np.abs((y_true - y_pred) / y_true)) * 100"
   ]
  },
  {
   "cell_type": "code",
   "execution_count": 23,
   "metadata": {},
   "outputs": [
    {
     "name": "stdout",
     "output_type": "stream",
     "text": [
      "Accuracy: 59.22 %.\n"
     ]
    }
   ],
   "source": [
    "predict_test = dnn.predict(test_features)\n",
    "acc = mean_absolute_percentage_error(predict_test, test_labels)\n",
    "print('Accuracy:', round(100-acc, 2), '%.')"
   ]
  },
  {
   "cell_type": "code",
   "execution_count": 24,
   "metadata": {},
   "outputs": [],
   "source": [
    "from sklearn import linear_model\n",
    "clf = linear_model.Lasso(alpha=0.1)"
   ]
  },
  {
   "cell_type": "code",
   "execution_count": 25,
   "metadata": {},
   "outputs": [
    {
     "data": {
      "text/plain": [
       "Lasso(alpha=0.1, copy_X=True, fit_intercept=True, max_iter=1000,\n",
       "   normalize=False, positive=False, precompute=False, random_state=None,\n",
       "   selection='cyclic', tol=0.0001, warm_start=False)"
      ]
     },
     "execution_count": 25,
     "metadata": {},
     "output_type": "execute_result"
    }
   ],
   "source": [
    "clf.fit(train_features, train_labels)"
   ]
  },
  {
   "cell_type": "code",
   "execution_count": 26,
   "metadata": {},
   "outputs": [],
   "source": [
    "predictions = clf.predict(test_features)"
   ]
  },
  {
   "cell_type": "code",
   "execution_count": 27,
   "metadata": {},
   "outputs": [
    {
     "name": "stdout",
     "output_type": "stream",
     "text": [
      "Mean Absolute Error: 1.0 degrees.\n"
     ]
    }
   ],
   "source": [
    "# Calculate the absolute errors\n",
    "errors = abs(predictions - test_labels)\n",
    "# Print out the mean absolute error (mae)\n",
    "print('Mean Absolute Error:', round(np.mean(errors), 2), 'degrees.')"
   ]
  },
  {
   "cell_type": "code",
   "execution_count": 28,
   "metadata": {},
   "outputs": [
    {
     "name": "stdout",
     "output_type": "stream",
     "text": [
      "Accuracy: 79.69 %.\n"
     ]
    }
   ],
   "source": [
    "# Calculate mean absolute percentage error (MAPE)\n",
    "mape = 100 * (errors / test_labels)\n",
    "# Calculate and display accuracy\n",
    "accuracy = 100 - np.mean(mape)\n",
    "print('Accuracy:', round(accuracy, 2), '%.')"
   ]
  },
  {
   "cell_type": "code",
   "execution_count": null,
   "metadata": {},
   "outputs": [],
   "source": []
  }
 ],
 "metadata": {
  "kernelspec": {
   "display_name": "Python 3",
   "language": "python",
   "name": "python3"
  },
  "language_info": {
   "codemirror_mode": {
    "name": "ipython",
    "version": 3
   },
   "file_extension": ".py",
   "mimetype": "text/x-python",
   "name": "python",
   "nbconvert_exporter": "python",
   "pygments_lexer": "ipython3",
   "version": "3.6.4"
  }
 },
 "nbformat": 4,
 "nbformat_minor": 2
}
