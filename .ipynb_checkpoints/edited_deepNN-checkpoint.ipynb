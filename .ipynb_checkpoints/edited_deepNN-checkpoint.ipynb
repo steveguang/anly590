{
 "cells": [
  {
   "cell_type": "code",
   "execution_count": 1,
   "metadata": {},
   "outputs": [
    {
     "name": "stderr",
     "output_type": "stream",
     "text": [
      "Using TensorFlow backend.\n"
     ]
    }
   ],
   "source": [
    "import pandas as pd\n",
    "import numpy as np\n",
    "from keras.layers import Input, Dense\n",
    "from keras.models import Model\n",
    "from keras.layers import LeakyReLU, PReLU, Dropout\n",
    "from keras import optimizers\n",
    "from sklearn.preprocessing import StandardScaler\n",
    "from matplotlib import pyplot"
   ]
  },
  {
   "cell_type": "code",
   "execution_count": 2,
   "metadata": {},
   "outputs": [],
   "source": [
    "cab_df = pd.read_csv(\"../cab_rides.csv\",delimiter='\\t',encoding = \"utf-16\")\n",
    "weather_df = pd.read_csv(\"../weather.csv\",delimiter='\\t',encoding = \"utf-16\")\n",
    "\n",
    "cab_df['date_time'] = pd.to_datetime(cab_df['time_stamp']/1000, unit='s')\n",
    "weather_df['date_time'] = pd.to_datetime(weather_df['time_stamp'], unit='s')\n",
    "\n",
    "#merge the datasets to refelect same time for a location\n",
    "cab_df['merge_date'] = cab_df.source.astype(str) +\" - \"+ cab_df.date_time.dt.date.astype(\"str\") +\" - \"+ cab_df.date_time.dt.hour.astype(\"str\")\n",
    "weather_df['merge_date'] = weather_df.location.astype(str) +\" - \"+ weather_df.date_time.dt.date.astype(\"str\") +\" - \"+ weather_df.date_time.dt.hour.astype(\"str\")\n",
    "\n",
    "weather_df.index = weather_df['merge_date']\n",
    "\n",
    "merged_df = cab_df.join(weather_df,on=['merge_date'],rsuffix ='_w')\n",
    "merged_df['rain'].fillna(0,inplace=True)\n",
    "merged_df = merged_df[pd.notnull(merged_df['date_time_w'])]\n",
    "merged_df = merged_df[pd.notnull(merged_df['price'])]\n",
    "merged_df['day'] = merged_df.date_time.dt.dayofweek\n",
    "merged_df['hour'] = merged_df.date_time.dt.hour\n",
    "\n",
    "merged_df.columns\n",
    "merged_df.count()\n",
    "X = merged_df[merged_df.product_id=='lyft_line'][['day','distance','hour','temp','clouds', 'pressure','humidity', 'wind', 'rain']]\n",
    "X.count()\n",
    "y = merged_df[merged_df.product_id=='lyft_line']['price']\n",
    "y.count()\n",
    "X.reset_index(inplace=True)\n",
    "X = X.drop(columns=['index'])\n",
    "#X.head()\n",
    "#features = pd.get_dummies(X)\n",
    "sc = StandardScaler()\n",
    "X = sc.fit_transform(X)"
   ]
  },
  {
   "cell_type": "code",
   "execution_count": 3,
   "metadata": {},
   "outputs": [],
   "source": [
    "# Labels are the values we want to predict\n",
    "labels = np.array(y)\n",
    "\n",
    "# Saving feature names for later use\n",
    "#feature_list = list(features.columns)\n",
    "# Convert to numpy array\n",
    "#features = np.array(features)\n",
    "# Using Skicit-learn to split data into training and testing sets\n",
    "from sklearn.model_selection import train_test_split\n",
    "# Split the data into training and testing sets\n",
    "train_features, test_features, train_labels, test_labels = train_test_split(X, labels, test_size = 0.1, random_state = 0)"
   ]
  },
  {
   "cell_type": "code",
   "execution_count": 4,
   "metadata": {
    "scrolled": false
   },
   "outputs": [
    {
     "name": "stdout",
     "output_type": "stream",
     "text": [
      "Train on 81936 samples, validate on 9105 samples\n",
      "Epoch 1/30\n",
      "81936/81936 [==============================] - 11s 136us/step - loss: 2.4083 - mape: 40.7969 - val_loss: 1.1707 - val_mape: 21.9330\n",
      "Epoch 2/30\n",
      "81936/81936 [==============================] - 11s 137us/step - loss: 1.3238 - mape: 24.6460 - val_loss: 1.1011 - val_mape: 21.1197\n",
      "Epoch 3/30\n",
      "81936/81936 [==============================] - 11s 136us/step - loss: 1.2057 - mape: 22.8601 - val_loss: 1.0365 - val_mape: 19.8426\n",
      "Epoch 4/30\n",
      "81936/81936 [==============================] - 11s 135us/step - loss: 1.1458 - mape: 22.0821 - val_loss: 0.9816 - val_mape: 19.2846\n",
      "Epoch 5/30\n",
      "81936/81936 [==============================] - 11s 137us/step - loss: 1.1057 - mape: 21.4636 - val_loss: 0.9568 - val_mape: 18.6511\n",
      "Epoch 6/30\n",
      "81936/81936 [==============================] - 11s 136us/step - loss: 1.0835 - mape: 20.9840 - val_loss: 0.9431 - val_mape: 18.4705\n",
      "Epoch 7/30\n",
      "81936/81936 [==============================] - 11s 135us/step - loss: 1.0619 - mape: 20.5010 - val_loss: 0.9227 - val_mape: 17.8423\n",
      "Epoch 8/30\n",
      "81936/81936 [==============================] - 11s 137us/step - loss: 1.0409 - mape: 20.0671 - val_loss: 0.8985 - val_mape: 17.3642\n",
      "Epoch 9/30\n",
      "81936/81936 [==============================] - 11s 137us/step - loss: 1.0218 - mape: 19.6575 - val_loss: 0.8911 - val_mape: 17.0196\n",
      "Epoch 10/30\n",
      "81936/81936 [==============================] - 11s 136us/step - loss: 1.0088 - mape: 19.3673 - val_loss: 0.8796 - val_mape: 16.7007\n",
      "Epoch 11/30\n",
      "81936/81936 [==============================] - 11s 137us/step - loss: 0.9924 - mape: 19.1347 - val_loss: 0.8648 - val_mape: 16.3460\n",
      "Epoch 12/30\n",
      "81936/81936 [==============================] - 11s 137us/step - loss: 0.9817 - mape: 18.9917 - val_loss: 0.8682 - val_mape: 16.3571\n",
      "Epoch 13/30\n",
      "81936/81936 [==============================] - 12s 145us/step - loss: 0.9711 - mape: 18.8556 - val_loss: 0.8785 - val_mape: 16.3808\n",
      "Epoch 14/30\n",
      "81936/81936 [==============================] - 10s 127us/step - loss: 0.9652 - mape: 18.7738 - val_loss: 0.8573 - val_mape: 16.2347\n",
      "Epoch 15/30\n",
      "81936/81936 [==============================] - 10s 128us/step - loss: 0.9599 - mape: 18.7082 - val_loss: 0.8590 - val_mape: 16.1410\n",
      "Epoch 16/30\n",
      "81936/81936 [==============================] - 13s 153us/step - loss: 0.9543 - mape: 18.5628 - val_loss: 0.8466 - val_mape: 15.9869\n",
      "Epoch 17/30\n",
      "81936/81936 [==============================] - 11s 135us/step - loss: 0.9473 - mape: 18.4128 - val_loss: 0.8544 - val_mape: 16.0208\n",
      "Epoch 18/30\n",
      "81936/81936 [==============================] - 13s 156us/step - loss: 0.9458 - mape: 18.3932 - val_loss: 0.8455 - val_mape: 15.8694\n",
      "Epoch 19/30\n",
      "81936/81936 [==============================] - 10s 127us/step - loss: 0.9391 - mape: 18.2537 - val_loss: 0.8479 - val_mape: 15.7848\n",
      "Epoch 20/30\n",
      "81936/81936 [==============================] - 11s 129us/step - loss: 0.9356 - mape: 18.1136 - val_loss: 0.8481 - val_mape: 15.8117\n",
      "Epoch 21/30\n",
      "81936/81936 [==============================] - 11s 130us/step - loss: 0.9312 - mape: 18.0330 - val_loss: 0.8540 - val_mape: 15.8648\n",
      "Epoch 22/30\n",
      "81936/81936 [==============================] - 10s 125us/step - loss: 0.9240 - mape: 17.9417 - val_loss: 0.8448 - val_mape: 15.6733\n",
      "Epoch 23/30\n",
      "81936/81936 [==============================] - 11s 134us/step - loss: 0.9219 - mape: 17.8876 - val_loss: 0.8520 - val_mape: 15.7565\n",
      "Epoch 24/30\n",
      "81936/81936 [==============================] - 11s 135us/step - loss: 0.9180 - mape: 17.8109 - val_loss: 0.8480 - val_mape: 15.7455\n",
      "Epoch 25/30\n",
      "81936/81936 [==============================] - 11s 128us/step - loss: 0.9123 - mape: 17.7300 - val_loss: 0.8563 - val_mape: 15.8665\n",
      "Epoch 26/30\n",
      "81936/81936 [==============================] - 14s 168us/step - loss: 0.9089 - mape: 17.6588 - val_loss: 0.8585 - val_mape: 15.9152\n",
      "Epoch 27/30\n",
      "81936/81936 [==============================] - 11s 128us/step - loss: 0.9042 - mape: 17.5641 - val_loss: 0.8607 - val_mape: 15.8302\n",
      "Epoch 28/30\n",
      "81936/81936 [==============================] - 11s 129us/step - loss: 0.9000 - mape: 17.4581 - val_loss: 0.8589 - val_mape: 15.7913\n",
      "Epoch 29/30\n",
      "81936/81936 [==============================] - 11s 129us/step - loss: 0.8980 - mape: 17.3644 - val_loss: 0.8603 - val_mape: 15.7945\n",
      "Epoch 30/30\n",
      "81936/81936 [==============================] - 11s 128us/step - loss: 0.8939 - mape: 17.3070 - val_loss: 0.8571 - val_mape: 15.7301\n"
     ]
    }
   ],
   "source": [
    "input_ = Input(shape = (9,))\n",
    "x = Dense(32)(input_)\n",
    "x = Dense(16, activation = 'relu')(x)\n",
    "x = Dropout(0.25)(x)\n",
    "x = Dense(8, activation = 'relu')(x)\n",
    "x = Dropout(0.1)(x)\n",
    "x = Dense(4, activation = 'relu')(x)\n",
    "x = Dropout(0.1)(x)\n",
    "x = Dense(2, activation = 'relu')(x)\n",
    "output = Dense(1)(x)\n",
    "\n",
    "dnn = Model(input_, output)\n",
    "sgd = optimizers.SGD(lr=0.001, momentum=0.01, clipnorm=1.)\n",
    "dnn.compile(optimizer=sgd, loss='mean_absolute_error', metrics=['mape'])\n",
    "history = dnn.fit(train_features, train_labels,\n",
    "              batch_size=8,\n",
    "              epochs=30,\n",
    "           validation_data=(test_features, test_labels))"
   ]
  },
  {
   "cell_type": "code",
   "execution_count": 12,
   "metadata": {},
   "outputs": [
    {
     "data": {
      "image/png": "[encoded data removed]",
      "text/plain": [
       "<Figure size 432x288 with 1 Axes>"
      ]
     },
     "metadata": {
      "needs_background": "light"
     },
     "output_type": "display_data"
    }
   ],
   "source": [
    "pyplot.plot(np.full((30,), 100)-history.history['mape'])\n",
    "pyplot.show()"
   ]
  },
  {
   "cell_type": "code",
   "execution_count": 13,
   "metadata": {},
   "outputs": [
    {
     "name": "stdout",
     "output_type": "stream",
     "text": [
      "Accuracy: 61.05 %.\n"
     ]
    }
   ],
   "source": [
    "predict_test = dnn.predict(test_features)\n",
    "errors = abs(predict_test - test_labels)\n",
    "mape = 100 * (errors / test_labels)\n",
    "accuracy = 100 - np.mean(mape)\n",
    "print('Accuracy:', round(accuracy, 2), '%.')"
   ]
  },
  {
   "cell_type": "code",
   "execution_count": 14,
   "metadata": {},
   "outputs": [],
   "source": [
    "def mean_absolute_percentage_error(y_true, y_pred): \n",
    "    y_true, y_pred = np.array(y_true), np.array(y_pred)\n",
    "    return np.mean(np.abs((y_true - y_pred) / y_true)) * 100"
   ]
  },
  {
   "cell_type": "code",
   "execution_count": 15,
   "metadata": {},
   "outputs": [
    {
     "name": "stdout",
     "output_type": "stream",
     "text": [
      "Accuracy: 59.49 %.\n"
     ]
    }
   ],
   "source": [
    "predict_test = dnn.predict(test_features)\n",
    "acc = mean_absolute_percentage_error(predict_test, test_labels)\n",
    "print('Accuracy:', round(100-acc, 2), '%.')"
   ]
  },
  {
   "cell_type": "code",
   "execution_count": null,
   "metadata": {},
   "outputs": [],
   "source": []
  },
  {
   "cell_type": "code",
   "execution_count": null,
   "metadata": {},
   "outputs": [],
   "source": []
  },
  {
   "cell_type": "code",
   "execution_count": null,
   "metadata": {},
   "outputs": [],
   "source": []
  },
  {
   "cell_type": "code",
   "execution_count": null,
   "metadata": {},
   "outputs": [],
   "source": []
  },
  {
   "cell_type": "code",
   "execution_count": null,
   "metadata": {},
   "outputs": [],
   "source": []
  }
 ],
 "metadata": {
  "kernelspec": {
   "display_name": "Python [conda env:PythonCPU] *",
   "language": "python",
   "name": "conda-env-PythonCPU-py"
  },
  "language_info": {
   "codemirror_mode": {
    "name": "ipython",
    "version": 3
   },
   "file_extension": ".py",
   "mimetype": "text/x-python",
   "name": "python",
   "nbconvert_exporter": "python",
   "pygments_lexer": "ipython3",
   "version": "3.7.5"
  }
 },
 "nbformat": 4,
 "nbformat_minor": 2
}
